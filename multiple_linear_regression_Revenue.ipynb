{
  "nbformat": 4,
  "nbformat_minor": 0,
  "metadata": {
    "colab": {
      "provenance": []
    },
    "kernelspec": {
      "name": "python3",
      "display_name": "Python 3"
    }
  },
  "cells": [
    {
      "cell_type": "markdown",
      "metadata": {
        "id": "CazISR8X_HUG"
      },
      "source": [
        "# Multiple Linear Regression"
      ]
    },
    {
      "cell_type": "markdown",
      "metadata": {
        "id": "pOyqYHTk_Q57"
      },
      "source": [
        "## Importing the libraries"
      ]
    },
    {
      "cell_type": "code",
      "metadata": {
        "id": "T_YHJjnD_Tja"
      },
      "source": [
        "import numpy as np\n",
        "import matplotlib.pyplot as plt\n",
        "import pandas as pd"
      ],
      "execution_count": null,
      "outputs": []
    },
    {
      "cell_type": "markdown",
      "metadata": {
        "id": "vgC61-ah_WIz"
      },
      "source": [
        "## Importing the dataset"
      ]
    },
    {
      "cell_type": "code",
      "metadata": {
        "id": "UrxyEKGn_ez7",
        "colab": {
          "base_uri": "https://localhost:8080/",
          "height": 362
        },
        "outputId": "8c35ddc6-448c-483e-84eb-c2e545cbdf15"
      },
      "source": [
        "dataset = pd.read_csv('Restaurant_revenue.csv')\n",
        "x=np.array(x)\n",
        "dataset.head(10)"
      ],
      "execution_count": null,
      "outputs": [
        {
          "output_type": "execute_result",
          "data": {
            "text/plain": [
              "   Number_of_Customers  Menu_Price  Marketing_Spend Cuisine_Type  \\\n",
              "0                   61   43.117635        12.663793     Japanese   \n",
              "1                   24   40.020077         4.577892      Italian   \n",
              "2                   81   41.981485         4.652911     Japanese   \n",
              "3                   70   43.005307         4.416053      Italian   \n",
              "4                   30   17.456199         3.475052      Italian   \n",
              "5                   92   19.427670        13.114473     American   \n",
              "6                   96   35.350343        16.960318     American   \n",
              "7                   84   46.314645        14.486349      Italian   \n",
              "8                   84   22.647863        15.841873     American   \n",
              "9                   97   33.532267         8.095969      Italian   \n",
              "\n",
              "   Average_Customer_Spending  Promotions  Reviews  Monthly_Revenue  \n",
              "0                  36.236133           0       45       350.912040  \n",
              "1                  17.952562           0       36       221.319091  \n",
              "2                  22.600420           1       91       326.529763  \n",
              "3                  18.984098           1       59       348.190573  \n",
              "4                  12.766143           1       30       185.009121  \n",
              "5                  43.099950           1       10       399.867507  \n",
              "6                  20.181622           0       86       496.653687  \n",
              "7                  28.921100           1        1       417.158607  \n",
              "8                  11.732611           0       26       352.148065  \n",
              "9                  37.973579           0       98       272.793517  "
            ],
            "text/html": [
              "\n",
              "  <div id=\"df-06280334-7d66-4490-bf79-cf9b2c209708\" class=\"colab-df-container\">\n",
              "    <div>\n",
              "<style scoped>\n",
              "    .dataframe tbody tr th:only-of-type {\n",
              "        vertical-align: middle;\n",
              "    }\n",
              "\n",
              "    .dataframe tbody tr th {\n",
              "        vertical-align: top;\n",
              "    }\n",
              "\n",
              "    .dataframe thead th {\n",
              "        text-align: right;\n",
              "    }\n",
              "</style>\n",
              "<table border=\"1\" class=\"dataframe\">\n",
              "  <thead>\n",
              "    <tr style=\"text-align: right;\">\n",
              "      <th></th>\n",
              "      <th>Number_of_Customers</th>\n",
              "      <th>Menu_Price</th>\n",
              "      <th>Marketing_Spend</th>\n",
              "      <th>Cuisine_Type</th>\n",
              "      <th>Average_Customer_Spending</th>\n",
              "      <th>Promotions</th>\n",
              "      <th>Reviews</th>\n",
              "      <th>Monthly_Revenue</th>\n",
              "    </tr>\n",
              "  </thead>\n",
              "  <tbody>\n",
              "    <tr>\n",
              "      <th>0</th>\n",
              "      <td>61</td>\n",
              "      <td>43.117635</td>\n",
              "      <td>12.663793</td>\n",
              "      <td>Japanese</td>\n",
              "      <td>36.236133</td>\n",
              "      <td>0</td>\n",
              "      <td>45</td>\n",
              "      <td>350.912040</td>\n",
              "    </tr>\n",
              "    <tr>\n",
              "      <th>1</th>\n",
              "      <td>24</td>\n",
              "      <td>40.020077</td>\n",
              "      <td>4.577892</td>\n",
              "      <td>Italian</td>\n",
              "      <td>17.952562</td>\n",
              "      <td>0</td>\n",
              "      <td>36</td>\n",
              "      <td>221.319091</td>\n",
              "    </tr>\n",
              "    <tr>\n",
              "      <th>2</th>\n",
              "      <td>81</td>\n",
              "      <td>41.981485</td>\n",
              "      <td>4.652911</td>\n",
              "      <td>Japanese</td>\n",
              "      <td>22.600420</td>\n",
              "      <td>1</td>\n",
              "      <td>91</td>\n",
              "      <td>326.529763</td>\n",
              "    </tr>\n",
              "    <tr>\n",
              "      <th>3</th>\n",
              "      <td>70</td>\n",
              "      <td>43.005307</td>\n",
              "      <td>4.416053</td>\n",
              "      <td>Italian</td>\n",
              "      <td>18.984098</td>\n",
              "      <td>1</td>\n",
              "      <td>59</td>\n",
              "      <td>348.190573</td>\n",
              "    </tr>\n",
              "    <tr>\n",
              "      <th>4</th>\n",
              "      <td>30</td>\n",
              "      <td>17.456199</td>\n",
              "      <td>3.475052</td>\n",
              "      <td>Italian</td>\n",
              "      <td>12.766143</td>\n",
              "      <td>1</td>\n",
              "      <td>30</td>\n",
              "      <td>185.009121</td>\n",
              "    </tr>\n",
              "    <tr>\n",
              "      <th>5</th>\n",
              "      <td>92</td>\n",
              "      <td>19.427670</td>\n",
              "      <td>13.114473</td>\n",
              "      <td>American</td>\n",
              "      <td>43.099950</td>\n",
              "      <td>1</td>\n",
              "      <td>10</td>\n",
              "      <td>399.867507</td>\n",
              "    </tr>\n",
              "    <tr>\n",
              "      <th>6</th>\n",
              "      <td>96</td>\n",
              "      <td>35.350343</td>\n",
              "      <td>16.960318</td>\n",
              "      <td>American</td>\n",
              "      <td>20.181622</td>\n",
              "      <td>0</td>\n",
              "      <td>86</td>\n",
              "      <td>496.653687</td>\n",
              "    </tr>\n",
              "    <tr>\n",
              "      <th>7</th>\n",
              "      <td>84</td>\n",
              "      <td>46.314645</td>\n",
              "      <td>14.486349</td>\n",
              "      <td>Italian</td>\n",
              "      <td>28.921100</td>\n",
              "      <td>1</td>\n",
              "      <td>1</td>\n",
              "      <td>417.158607</td>\n",
              "    </tr>\n",
              "    <tr>\n",
              "      <th>8</th>\n",
              "      <td>84</td>\n",
              "      <td>22.647863</td>\n",
              "      <td>15.841873</td>\n",
              "      <td>American</td>\n",
              "      <td>11.732611</td>\n",
              "      <td>0</td>\n",
              "      <td>26</td>\n",
              "      <td>352.148065</td>\n",
              "    </tr>\n",
              "    <tr>\n",
              "      <th>9</th>\n",
              "      <td>97</td>\n",
              "      <td>33.532267</td>\n",
              "      <td>8.095969</td>\n",
              "      <td>Italian</td>\n",
              "      <td>37.973579</td>\n",
              "      <td>0</td>\n",
              "      <td>98</td>\n",
              "      <td>272.793517</td>\n",
              "    </tr>\n",
              "  </tbody>\n",
              "</table>\n",
              "</div>\n",
              "    <div class=\"colab-df-buttons\">\n",
              "\n",
              "  <div class=\"colab-df-container\">\n",
              "    <button class=\"colab-df-convert\" onclick=\"convertToInteractive('df-06280334-7d66-4490-bf79-cf9b2c209708')\"\n",
              "            title=\"Convert this dataframe to an interactive table.\"\n",
              "            style=\"display:none;\">\n",
              "\n",
              "  <svg xmlns=\"http://www.w3.org/2000/svg\" height=\"24px\" viewBox=\"0 -960 960 960\">\n",
              "    <path d=\"M120-120v-720h720v720H120Zm60-500h600v-160H180v160Zm220 220h160v-160H400v160Zm0 220h160v-160H400v160ZM180-400h160v-160H180v160Zm440 0h160v-160H620v160ZM180-180h160v-160H180v160Zm440 0h160v-160H620v160Z\"/>\n",
              "  </svg>\n",
              "    </button>\n",
              "\n",
              "  <style>\n",
              "    .colab-df-container {\n",
              "      display:flex;\n",
              "      gap: 12px;\n",
              "    }\n",
              "\n",
              "    .colab-df-convert {\n",
              "      background-color: #E8F0FE;\n",
              "      border: none;\n",
              "      border-radius: 50%;\n",
              "      cursor: pointer;\n",
              "      display: none;\n",
              "      fill: #1967D2;\n",
              "      height: 32px;\n",
              "      padding: 0 0 0 0;\n",
              "      width: 32px;\n",
              "    }\n",
              "\n",
              "    .colab-df-convert:hover {\n",
              "      background-color: #E2EBFA;\n",
              "      box-shadow: 0px 1px 2px rgba(60, 64, 67, 0.3), 0px 1px 3px 1px rgba(60, 64, 67, 0.15);\n",
              "      fill: #174EA6;\n",
              "    }\n",
              "\n",
              "    .colab-df-buttons div {\n",
              "      margin-bottom: 4px;\n",
              "    }\n",
              "\n",
              "    [theme=dark] .colab-df-convert {\n",
              "      background-color: #3B4455;\n",
              "      fill: #D2E3FC;\n",
              "    }\n",
              "\n",
              "    [theme=dark] .colab-df-convert:hover {\n",
              "      background-color: #434B5C;\n",
              "      box-shadow: 0px 1px 3px 1px rgba(0, 0, 0, 0.15);\n",
              "      filter: drop-shadow(0px 1px 2px rgba(0, 0, 0, 0.3));\n",
              "      fill: #FFFFFF;\n",
              "    }\n",
              "  </style>\n",
              "\n",
              "    <script>\n",
              "      const buttonEl =\n",
              "        document.querySelector('#df-06280334-7d66-4490-bf79-cf9b2c209708 button.colab-df-convert');\n",
              "      buttonEl.style.display =\n",
              "        google.colab.kernel.accessAllowed ? 'block' : 'none';\n",
              "\n",
              "      async function convertToInteractive(key) {\n",
              "        const element = document.querySelector('#df-06280334-7d66-4490-bf79-cf9b2c209708');\n",
              "        const dataTable =\n",
              "          await google.colab.kernel.invokeFunction('convertToInteractive',\n",
              "                                                    [key], {});\n",
              "        if (!dataTable) return;\n",
              "\n",
              "        const docLinkHtml = 'Like what you see? Visit the ' +\n",
              "          '<a target=\"_blank\" href=https://colab.research.google.com/notebooks/data_table.ipynb>data table notebook</a>'\n",
              "          + ' to learn more about interactive tables.';\n",
              "        element.innerHTML = '';\n",
              "        dataTable['output_type'] = 'display_data';\n",
              "        await google.colab.output.renderOutput(dataTable, element);\n",
              "        const docLink = document.createElement('div');\n",
              "        docLink.innerHTML = docLinkHtml;\n",
              "        element.appendChild(docLink);\n",
              "      }\n",
              "    </script>\n",
              "  </div>\n",
              "\n",
              "\n",
              "<div id=\"df-489f71b5-5702-49d4-80dd-07c39dbad0d1\">\n",
              "  <button class=\"colab-df-quickchart\" onclick=\"quickchart('df-489f71b5-5702-49d4-80dd-07c39dbad0d1')\"\n",
              "            title=\"Suggest charts\"\n",
              "            style=\"display:none;\">\n",
              "\n",
              "<svg xmlns=\"http://www.w3.org/2000/svg\" height=\"24px\"viewBox=\"0 0 24 24\"\n",
              "     width=\"24px\">\n",
              "    <g>\n",
              "        <path d=\"M19 3H5c-1.1 0-2 .9-2 2v14c0 1.1.9 2 2 2h14c1.1 0 2-.9 2-2V5c0-1.1-.9-2-2-2zM9 17H7v-7h2v7zm4 0h-2V7h2v10zm4 0h-2v-4h2v4z\"/>\n",
              "    </g>\n",
              "</svg>\n",
              "  </button>\n",
              "\n",
              "<style>\n",
              "  .colab-df-quickchart {\n",
              "      --bg-color: #E8F0FE;\n",
              "      --fill-color: #1967D2;\n",
              "      --hover-bg-color: #E2EBFA;\n",
              "      --hover-fill-color: #174EA6;\n",
              "      --disabled-fill-color: #AAA;\n",
              "      --disabled-bg-color: #DDD;\n",
              "  }\n",
              "\n",
              "  [theme=dark] .colab-df-quickchart {\n",
              "      --bg-color: #3B4455;\n",
              "      --fill-color: #D2E3FC;\n",
              "      --hover-bg-color: #434B5C;\n",
              "      --hover-fill-color: #FFFFFF;\n",
              "      --disabled-bg-color: #3B4455;\n",
              "      --disabled-fill-color: #666;\n",
              "  }\n",
              "\n",
              "  .colab-df-quickchart {\n",
              "    background-color: var(--bg-color);\n",
              "    border: none;\n",
              "    border-radius: 50%;\n",
              "    cursor: pointer;\n",
              "    display: none;\n",
              "    fill: var(--fill-color);\n",
              "    height: 32px;\n",
              "    padding: 0;\n",
              "    width: 32px;\n",
              "  }\n",
              "\n",
              "  .colab-df-quickchart:hover {\n",
              "    background-color: var(--hover-bg-color);\n",
              "    box-shadow: 0 1px 2px rgba(60, 64, 67, 0.3), 0 1px 3px 1px rgba(60, 64, 67, 0.15);\n",
              "    fill: var(--button-hover-fill-color);\n",
              "  }\n",
              "\n",
              "  .colab-df-quickchart-complete:disabled,\n",
              "  .colab-df-quickchart-complete:disabled:hover {\n",
              "    background-color: var(--disabled-bg-color);\n",
              "    fill: var(--disabled-fill-color);\n",
              "    box-shadow: none;\n",
              "  }\n",
              "\n",
              "  .colab-df-spinner {\n",
              "    border: 2px solid var(--fill-color);\n",
              "    border-color: transparent;\n",
              "    border-bottom-color: var(--fill-color);\n",
              "    animation:\n",
              "      spin 1s steps(1) infinite;\n",
              "  }\n",
              "\n",
              "  @keyframes spin {\n",
              "    0% {\n",
              "      border-color: transparent;\n",
              "      border-bottom-color: var(--fill-color);\n",
              "      border-left-color: var(--fill-color);\n",
              "    }\n",
              "    20% {\n",
              "      border-color: transparent;\n",
              "      border-left-color: var(--fill-color);\n",
              "      border-top-color: var(--fill-color);\n",
              "    }\n",
              "    30% {\n",
              "      border-color: transparent;\n",
              "      border-left-color: var(--fill-color);\n",
              "      border-top-color: var(--fill-color);\n",
              "      border-right-color: var(--fill-color);\n",
              "    }\n",
              "    40% {\n",
              "      border-color: transparent;\n",
              "      border-right-color: var(--fill-color);\n",
              "      border-top-color: var(--fill-color);\n",
              "    }\n",
              "    60% {\n",
              "      border-color: transparent;\n",
              "      border-right-color: var(--fill-color);\n",
              "    }\n",
              "    80% {\n",
              "      border-color: transparent;\n",
              "      border-right-color: var(--fill-color);\n",
              "      border-bottom-color: var(--fill-color);\n",
              "    }\n",
              "    90% {\n",
              "      border-color: transparent;\n",
              "      border-bottom-color: var(--fill-color);\n",
              "    }\n",
              "  }\n",
              "</style>\n",
              "\n",
              "  <script>\n",
              "    async function quickchart(key) {\n",
              "      const quickchartButtonEl =\n",
              "        document.querySelector('#' + key + ' button');\n",
              "      quickchartButtonEl.disabled = true;  // To prevent multiple clicks.\n",
              "      quickchartButtonEl.classList.add('colab-df-spinner');\n",
              "      try {\n",
              "        const charts = await google.colab.kernel.invokeFunction(\n",
              "            'suggestCharts', [key], {});\n",
              "      } catch (error) {\n",
              "        console.error('Error during call to suggestCharts:', error);\n",
              "      }\n",
              "      quickchartButtonEl.classList.remove('colab-df-spinner');\n",
              "      quickchartButtonEl.classList.add('colab-df-quickchart-complete');\n",
              "    }\n",
              "    (() => {\n",
              "      let quickchartButtonEl =\n",
              "        document.querySelector('#df-489f71b5-5702-49d4-80dd-07c39dbad0d1 button');\n",
              "      quickchartButtonEl.style.display =\n",
              "        google.colab.kernel.accessAllowed ? 'block' : 'none';\n",
              "    })();\n",
              "  </script>\n",
              "</div>\n",
              "\n",
              "    </div>\n",
              "  </div>\n"
            ],
            "application/vnd.google.colaboratory.intrinsic+json": {
              "type": "dataframe",
              "variable_name": "dataset",
              "summary": "{\n  \"name\": \"dataset\",\n  \"rows\": 1000,\n  \"fields\": [\n    {\n      \"column\": \"Number_of_Customers\",\n      \"properties\": {\n        \"dtype\": \"number\",\n        \"std\": 26,\n        \"min\": 10,\n        \"max\": 99,\n        \"samples\": [\n          53,\n          58,\n          91\n        ],\n        \"num_unique_values\": 90,\n        \"semantic_type\": \"\",\n        \"description\": \"\"\n      }\n    },\n    {\n      \"column\": \"Menu_Price\",\n      \"properties\": {\n        \"dtype\": \"number\",\n        \"std\": 11.278759730211181,\n        \"min\": 10.009500943035384,\n        \"max\": 49.9741399826334,\n        \"samples\": [\n          46.473441398396446,\n          16.371497809712206,\n          44.657546701105815\n        ],\n        \"num_unique_values\": 1000,\n        \"semantic_type\": \"\",\n        \"description\": \"\"\n      }\n    },\n    {\n      \"column\": \"Marketing_Spend\",\n      \"properties\": {\n        \"dtype\": \"number\",\n        \"std\": 5.8455864482994775,\n        \"min\": 0.0037679911316379,\n        \"max\": 19.99427608311828,\n        \"samples\": [\n          4.404506027546303,\n          15.850427839258384,\n          2.9596829473166952\n        ],\n        \"num_unique_values\": 1000,\n        \"semantic_type\": \"\",\n        \"description\": \"\"\n      }\n    },\n    {\n      \"column\": \"Cuisine_Type\",\n      \"properties\": {\n        \"dtype\": \"category\",\n        \"samples\": [\n          \"Italian\",\n          \"Mexican\",\n          \"Japanese\"\n        ],\n        \"num_unique_values\": 4,\n        \"semantic_type\": \"\",\n        \"description\": \"\"\n      }\n    },\n    {\n      \"column\": \"Average_Customer_Spending\",\n      \"properties\": {\n        \"dtype\": \"number\",\n        \"std\": 11.471685815052968,\n        \"min\": 10.037176674798442,\n        \"max\": 49.900725246907,\n        \"samples\": [\n          32.219891206785256,\n          21.66773802886344,\n          21.569756112786727\n        ],\n        \"num_unique_values\": 1000,\n        \"semantic_type\": \"\",\n        \"description\": \"\"\n      }\n    },\n    {\n      \"column\": \"Promotions\",\n      \"properties\": {\n        \"dtype\": \"number\",\n        \"std\": 0,\n        \"min\": 0,\n        \"max\": 1,\n        \"samples\": [\n          1,\n          0\n        ],\n        \"num_unique_values\": 2,\n        \"semantic_type\": \"\",\n        \"description\": \"\"\n      }\n    },\n    {\n      \"column\": \"Reviews\",\n      \"properties\": {\n        \"dtype\": \"number\",\n        \"std\": 29,\n        \"min\": 0,\n        \"max\": 99,\n        \"samples\": [\n          39,\n          95\n        ],\n        \"num_unique_values\": 100,\n        \"semantic_type\": \"\",\n        \"description\": \"\"\n      }\n    },\n    {\n      \"column\": \"Monthly_Revenue\",\n      \"properties\": {\n        \"dtype\": \"number\",\n        \"std\": 103.98294996802571,\n        \"min\": -28.977808785917876,\n        \"max\": 563.3813323600473,\n        \"samples\": [\n          296.0598969262128,\n          233.6028429573463\n        ],\n        \"num_unique_values\": 1000,\n        \"semantic_type\": \"\",\n        \"description\": \"\"\n      }\n    }\n  ]\n}"
            }
          },
          "metadata": {},
          "execution_count": 40
        }
      ]
    },
    {
      "cell_type": "markdown",
      "source": [
        "#Separating Input and Output data"
      ],
      "metadata": {
        "id": "d3gaC-RKUr7Y"
      }
    },
    {
      "cell_type": "code",
      "metadata": {
        "id": "GOB3QhV9B5kD",
        "colab": {
          "base_uri": "https://localhost:8080/"
        },
        "outputId": "87ca51ea-fa83-40de-d9b7-a20b9fd34cc1"
      },
      "source": [
        "X = dataset.iloc[:, :-1].values\n",
        "y = dataset.iloc[:, -1].values\n",
        "print(X)"
      ],
      "execution_count": null,
      "outputs": [
        {
          "output_type": "stream",
          "name": "stdout",
          "text": [
            "[[61 43.11763548709968 12.66379252026928 ... 36.23613252393598 0 45]\n",
            " [24 40.02007699061254 4.577892096932272 ... 17.95256243749612 0 36]\n",
            " [81 41.98148523678063 4.65291077125362 ... 22.600420287336984 1 91]\n",
            " ...\n",
            " [69 17.110655514049927 4.141898363531425 ... 44.64931481070681 0 55]\n",
            " [73 37.66472222277277 3.046555713253576 ... 27.76735791686017 0 23]\n",
            " [81 34.72206697148744 17.989104250922033 ... 15.482112113126218 1 72]]\n"
          ]
        }
      ]
    },
    {
      "cell_type": "markdown",
      "metadata": {
        "id": "VadrvE7s_lS9"
      },
      "source": [
        "## Encoding categorical data"
      ]
    },
    {
      "cell_type": "code",
      "metadata": {
        "id": "wV3fD1mbAvsh"
      },
      "source": [
        "from sklearn.compose import ColumnTransformer\n",
        "from sklearn.preprocessing import OneHotEncoder\n",
        "ct = ColumnTransformer(transformers=[('encoder', OneHotEncoder(), [3])], remainder='passthrough')\n",
        "X = np.array(ct.fit_transform(X))"
      ],
      "execution_count": null,
      "outputs": []
    },
    {
      "cell_type": "code",
      "metadata": {
        "id": "4ym3HdYeCGYG",
        "colab": {
          "base_uri": "https://localhost:8080/"
        },
        "outputId": "7f9d100f-5ecc-468c-baf7-21beba6e8156"
      },
      "source": [
        "print(X)"
      ],
      "execution_count": null,
      "outputs": [
        {
          "output_type": "stream",
          "name": "stdout",
          "text": [
            "[[0.0 0.0 1.0 ... 36.23613252393598 0 45]\n",
            " [0.0 1.0 0.0 ... 17.95256243749612 0 36]\n",
            " [0.0 0.0 1.0 ... 22.600420287336984 1 91]\n",
            " ...\n",
            " [0.0 0.0 1.0 ... 44.64931481070681 0 55]\n",
            " [0.0 0.0 1.0 ... 27.76735791686017 0 23]\n",
            " [0.0 1.0 0.0 ... 15.482112113126218 1 72]]\n"
          ]
        }
      ]
    },
    {
      "cell_type": "markdown",
      "metadata": {
        "id": "WemVnqgeA70k"
      },
      "source": [
        "## Splitting the dataset into the Training set and Test set"
      ]
    },
    {
      "cell_type": "code",
      "metadata": {
        "id": "Kb_v_ae-A-20"
      },
      "source": [
        "from sklearn.model_selection import train_test_split\n",
        "X_train, X_test, y_train, y_test = train_test_split(X, y, test_size = 0.2, random_state = 0)"
      ],
      "execution_count": null,
      "outputs": []
    },
    {
      "cell_type": "markdown",
      "metadata": {
        "id": "k-McZVsQBINc"
      },
      "source": [
        "## Training the Multiple Linear Regression model on the Training set"
      ]
    },
    {
      "cell_type": "code",
      "metadata": {
        "id": "ywPjx0L1BMiD",
        "colab": {
          "base_uri": "https://localhost:8080/",
          "height": 74
        },
        "outputId": "64d3d79a-202a-425f-c0cd-1ad794a97a94"
      },
      "source": [
        "from sklearn.linear_model import LinearRegression\n",
        "regressor = LinearRegression()\n",
        "regressor.fit(X_train, y_train)"
      ],
      "execution_count": null,
      "outputs": [
        {
          "output_type": "execute_result",
          "data": {
            "text/plain": [
              "LinearRegression()"
            ],
            "text/html": [
              "<style>#sk-container-id-3 {color: black;background-color: white;}#sk-container-id-3 pre{padding: 0;}#sk-container-id-3 div.sk-toggleable {background-color: white;}#sk-container-id-3 label.sk-toggleable__label {cursor: pointer;display: block;width: 100%;margin-bottom: 0;padding: 0.3em;box-sizing: border-box;text-align: center;}#sk-container-id-3 label.sk-toggleable__label-arrow:before {content: \"▸\";float: left;margin-right: 0.25em;color: #696969;}#sk-container-id-3 label.sk-toggleable__label-arrow:hover:before {color: black;}#sk-container-id-3 div.sk-estimator:hover label.sk-toggleable__label-arrow:before {color: black;}#sk-container-id-3 div.sk-toggleable__content {max-height: 0;max-width: 0;overflow: hidden;text-align: left;background-color: #f0f8ff;}#sk-container-id-3 div.sk-toggleable__content pre {margin: 0.2em;color: black;border-radius: 0.25em;background-color: #f0f8ff;}#sk-container-id-3 input.sk-toggleable__control:checked~div.sk-toggleable__content {max-height: 200px;max-width: 100%;overflow: auto;}#sk-container-id-3 input.sk-toggleable__control:checked~label.sk-toggleable__label-arrow:before {content: \"▾\";}#sk-container-id-3 div.sk-estimator input.sk-toggleable__control:checked~label.sk-toggleable__label {background-color: #d4ebff;}#sk-container-id-3 div.sk-label input.sk-toggleable__control:checked~label.sk-toggleable__label {background-color: #d4ebff;}#sk-container-id-3 input.sk-hidden--visually {border: 0;clip: rect(1px 1px 1px 1px);clip: rect(1px, 1px, 1px, 1px);height: 1px;margin: -1px;overflow: hidden;padding: 0;position: absolute;width: 1px;}#sk-container-id-3 div.sk-estimator {font-family: monospace;background-color: #f0f8ff;border: 1px dotted black;border-radius: 0.25em;box-sizing: border-box;margin-bottom: 0.5em;}#sk-container-id-3 div.sk-estimator:hover {background-color: #d4ebff;}#sk-container-id-3 div.sk-parallel-item::after {content: \"\";width: 100%;border-bottom: 1px solid gray;flex-grow: 1;}#sk-container-id-3 div.sk-label:hover label.sk-toggleable__label {background-color: #d4ebff;}#sk-container-id-3 div.sk-serial::before {content: \"\";position: absolute;border-left: 1px solid gray;box-sizing: border-box;top: 0;bottom: 0;left: 50%;z-index: 0;}#sk-container-id-3 div.sk-serial {display: flex;flex-direction: column;align-items: center;background-color: white;padding-right: 0.2em;padding-left: 0.2em;position: relative;}#sk-container-id-3 div.sk-item {position: relative;z-index: 1;}#sk-container-id-3 div.sk-parallel {display: flex;align-items: stretch;justify-content: center;background-color: white;position: relative;}#sk-container-id-3 div.sk-item::before, #sk-container-id-3 div.sk-parallel-item::before {content: \"\";position: absolute;border-left: 1px solid gray;box-sizing: border-box;top: 0;bottom: 0;left: 50%;z-index: -1;}#sk-container-id-3 div.sk-parallel-item {display: flex;flex-direction: column;z-index: 1;position: relative;background-color: white;}#sk-container-id-3 div.sk-parallel-item:first-child::after {align-self: flex-end;width: 50%;}#sk-container-id-3 div.sk-parallel-item:last-child::after {align-self: flex-start;width: 50%;}#sk-container-id-3 div.sk-parallel-item:only-child::after {width: 0;}#sk-container-id-3 div.sk-dashed-wrapped {border: 1px dashed gray;margin: 0 0.4em 0.5em 0.4em;box-sizing: border-box;padding-bottom: 0.4em;background-color: white;}#sk-container-id-3 div.sk-label label {font-family: monospace;font-weight: bold;display: inline-block;line-height: 1.2em;}#sk-container-id-3 div.sk-label-container {text-align: center;}#sk-container-id-3 div.sk-container {/* jupyter's `normalize.less` sets `[hidden] { display: none; }` but bootstrap.min.css set `[hidden] { display: none !important; }` so we also need the `!important` here to be able to override the default hidden behavior on the sphinx rendered scikit-learn.org. See: https://github.com/scikit-learn/scikit-learn/issues/21755 */display: inline-block !important;position: relative;}#sk-container-id-3 div.sk-text-repr-fallback {display: none;}</style><div id=\"sk-container-id-3\" class=\"sk-top-container\"><div class=\"sk-text-repr-fallback\"><pre>LinearRegression()</pre><b>In a Jupyter environment, please rerun this cell to show the HTML representation or trust the notebook. <br />On GitHub, the HTML representation is unable to render, please try loading this page with nbviewer.org.</b></div><div class=\"sk-container\" hidden><div class=\"sk-item\"><div class=\"sk-estimator sk-toggleable\"><input class=\"sk-toggleable__control sk-hidden--visually\" id=\"sk-estimator-id-3\" type=\"checkbox\" checked><label for=\"sk-estimator-id-3\" class=\"sk-toggleable__label sk-toggleable__label-arrow\">LinearRegression</label><div class=\"sk-toggleable__content\"><pre>LinearRegression()</pre></div></div></div></div></div>"
            ]
          },
          "metadata": {},
          "execution_count": 49
        }
      ]
    },
    {
      "cell_type": "markdown",
      "metadata": {
        "id": "xNkXL1YQBiBT"
      },
      "source": [
        "## Predicting the Test set results"
      ]
    },
    {
      "cell_type": "code",
      "metadata": {
        "id": "TQKmwvtdBkyb",
        "colab": {
          "base_uri": "https://localhost:8080/"
        },
        "outputId": "837fcf0d-9cf5-4870-b93d-178c33998ae8"
      },
      "source": [
        "y_pred = regressor.predict(X_test)\n",
        "np.set_printoptions(precision=2)\n",
        "print(np.concatenate((y_pred.reshape(len(y_pred),1), y_test.reshape(len(y_test),1)),1))"
      ],
      "execution_count": null,
      "outputs": [
        {
          "output_type": "stream",
          "name": "stdout",
          "text": [
            "[[126.17 139.18]\n",
            " [414.38 429.95]\n",
            " [326.64 288.53]\n",
            " [378.76 256.69]\n",
            " [421.17 423.69]\n",
            " [363.08 389.54]\n",
            " [308.77 273.37]\n",
            " [310.46 328.66]\n",
            " [345.99 346.27]\n",
            " [330.23 353.73]\n",
            " [343.07 329.25]\n",
            " [120.89 273.87]\n",
            " [171.28 268.14]\n",
            " [401.01 404.5 ]\n",
            " [211.33 194.5 ]\n",
            " [424.49 387.03]\n",
            " [290.46 308.84]\n",
            " [319.63 399.7 ]\n",
            " [130.15 117.15]\n",
            " [364.61 367.65]\n",
            " [382.22 442.85]\n",
            " [379.81 220.96]\n",
            " [179.48 172.93]\n",
            " [272.47 321.77]\n",
            " [164.16 140.97]\n",
            " [152.95 195.26]\n",
            " [288.13 324.82]\n",
            " [405.49 412.58]\n",
            " [415.15 439.98]\n",
            " [177.7  221.32]\n",
            " [146.56 146.65]\n",
            " [410.92 404.6 ]\n",
            " [461.71 492.31]\n",
            " [383.18 295.26]\n",
            " [372.76 325.07]\n",
            " [260.27 343.53]\n",
            " [407.67 378.58]\n",
            " [265.03 256.91]\n",
            " [137.11 177.12]\n",
            " [195.5  276.87]\n",
            " [322.88 285.47]\n",
            " [169.54 110.23]\n",
            " [300.18 201.35]\n",
            " [263.23 250.53]\n",
            " [313.1  268.  ]\n",
            " [134.46 205.39]\n",
            " [361.48 442.05]\n",
            " [314.38 333.82]\n",
            " [279.1  291.81]\n",
            " [233.1  149.91]\n",
            " [181.29 139.52]\n",
            " [245.61 269.08]\n",
            " [133.3  142.67]\n",
            " [275.73 424.01]\n",
            " [168.79 124.35]\n",
            " [316.29 370.33]\n",
            " [123.58  73.05]\n",
            " [277.67 283.65]\n",
            " [343.79 369.97]\n",
            " [257.43 285.25]\n",
            " [205.27 215.99]\n",
            " [393.3  459.08]\n",
            " [163.8  181.73]\n",
            " [307.56 258.34]\n",
            " [311.87 259.57]\n",
            " [273.85 366.24]\n",
            " [ 91.96 158.56]\n",
            " [250.61 157.7 ]\n",
            " [431.33 458.73]\n",
            " [388.73 281.96]\n",
            " [369.38 418.66]\n",
            " [226.79 165.63]\n",
            " [318.58 317.79]\n",
            " [273.93 277.19]\n",
            " [296.53 333.07]\n",
            " [259.37 270.07]\n",
            " [403.34 399.27]\n",
            " [354.53 256.16]\n",
            " [214.08 227.77]\n",
            " [190.55 144.76]\n",
            " [171.98 241.85]\n",
            " [329.8  434.87]\n",
            " [248.78 336.22]\n",
            " [270.26 306.18]\n",
            " [285.41 255.58]\n",
            " [298.45 292.78]\n",
            " [294.92 315.83]\n",
            " [130.2  111.09]\n",
            " [248.18 274.18]\n",
            " [364.69 399.72]\n",
            " [358.1  371.73]\n",
            " [235.84 330.3 ]\n",
            " [ 77.77 109.82]\n",
            " [357.22 434.14]\n",
            " [199.99 111.17]\n",
            " [301.92 297.29]\n",
            " [309.74 196.07]\n",
            " [151.62  98.59]\n",
            " [136.38 122.3 ]\n",
            " [344.16 363.01]\n",
            " [296.81 226.02]\n",
            " [252.45 210.38]\n",
            " [299.58 325.1 ]\n",
            " [298.65 312.02]\n",
            " [181.09  27.15]\n",
            " [260.92 373.81]\n",
            " [351.39 283.44]\n",
            " [436.92 344.2 ]\n",
            " [185.55  81.62]\n",
            " [381.25 436.78]\n",
            " [129.96 128.44]\n",
            " [223.16 278.7 ]\n",
            " [ 82.8  110.87]\n",
            " [347.18 371.61]\n",
            " [215.87 388.92]\n",
            " [293.55 326.84]\n",
            " [377.87 462.1 ]\n",
            " [372.02 374.16]\n",
            " [334.74 357.71]\n",
            " [167.41 104.63]\n",
            " [300.59 285.83]\n",
            " [330.87 362.81]\n",
            " [170.65 200.68]\n",
            " [392.2  438.  ]\n",
            " [234.2  239.03]\n",
            " [315.65 383.65]\n",
            " [348.88 380.61]\n",
            " [437.86 464.19]\n",
            " [247.24 192.86]\n",
            " [241.15 399.65]\n",
            " [170.75 156.08]\n",
            " [236.66 223.23]\n",
            " [270.98 291.66]\n",
            " [250.6  271.88]\n",
            " [343.72 408.59]\n",
            " [211.41 238.65]\n",
            " [284.8  234.93]\n",
            " [369.9  352.15]\n",
            " [173.42 186.68]\n",
            " [278.07 283.86]\n",
            " [321.12 419.89]\n",
            " [154.19 116.9 ]\n",
            " [153.61 171.75]\n",
            " [ 73.16  46.68]\n",
            " [361.45 413.  ]\n",
            " [289.02 314.11]\n",
            " [188.33 185.74]\n",
            " [215.7  234.35]\n",
            " [118.75 -28.98]\n",
            " [344.54 262.17]\n",
            " [370.43 424.29]\n",
            " [268.16 203.96]\n",
            " [219.26 231.97]\n",
            " [298.34 274.94]\n",
            " [226.66 204.51]\n",
            " [254.88 323.61]\n",
            " [376.2  437.73]\n",
            " [118.23 126.6 ]\n",
            " [170.24 223.47]\n",
            " [242.67 336.4 ]\n",
            " [152.52  45.38]\n",
            " [275.5  281.83]\n",
            " [154.82 192.59]\n",
            " [235.01 144.77]\n",
            " [172.28 114.9 ]\n",
            " [295.22 269.18]\n",
            " [355.31 308.83]\n",
            " [362.41 437.08]\n",
            " [185.83 300.03]\n",
            " [280.72 359.09]\n",
            " [213.55 304.95]\n",
            " [338.39 282.82]\n",
            " [392.17 489.95]\n",
            " [167.64 193.19]\n",
            " [300.31 315.43]\n",
            " [206.31 191.06]\n",
            " [365.19 350.31]\n",
            " [131.64  73.34]\n",
            " [356.83 413.93]\n",
            " [287.39 271.47]\n",
            " [273.02 261.16]\n",
            " [392.2  379.97]\n",
            " [272.33 196.93]\n",
            " [229.01 246.59]\n",
            " [204.52 188.84]\n",
            " [173.47 213.33]\n",
            " [210.17 239.55]\n",
            " [235.76 212.94]\n",
            " [354.12 395.17]\n",
            " [289.54 261.23]\n",
            " [253.88 262.01]\n",
            " [357.27 366.22]\n",
            " [307.86 472.85]\n",
            " [369.93 399.87]\n",
            " [378.39 264.38]\n",
            " [349.19 319.67]\n",
            " [146.66  72.07]\n",
            " [246.12 215.07]\n",
            " [129.01 131.82]\n",
            " [262.19 151.86]]\n"
          ]
        }
      ]
    },
    {
      "cell_type": "markdown",
      "source": [
        "Length\n"
      ],
      "metadata": {
        "id": "Bo8s6u0-BEQk"
      }
    },
    {
      "cell_type": "code",
      "source": [
        "print(f\"Shape of x: {x.shape}\")\n",
        "print(f\"Shape of y_test: {y_test.shape}\")\n",
        "print(f\"Shape of y_pred: {y_pred.shape}\")\n"
      ],
      "metadata": {
        "colab": {
          "base_uri": "https://localhost:8080/"
        },
        "id": "q-zf00OqCAFv",
        "outputId": "0aa2bdec-ec11-49b4-ac44-56bb1d699d74"
      },
      "execution_count": null,
      "outputs": [
        {
          "output_type": "stream",
          "name": "stdout",
          "text": [
            "Shape of x: (10,)\n",
            "Shape of y_test: (10,)\n",
            "Shape of y_pred: (10,)\n"
          ]
        }
      ]
    },
    {
      "cell_type": "code",
      "source": [
        "y_test = y_test[:len(x)]\n",
        "y_pred = y_pred[:len(x)]"
      ],
      "metadata": {
        "id": "SSb5mkb0DeUh"
      },
      "execution_count": null,
      "outputs": []
    },
    {
      "cell_type": "markdown",
      "source": [
        "# Plot"
      ],
      "metadata": {
        "id": "DnV_lLcXCFwo"
      }
    },
    {
      "cell_type": "code",
      "source": [
        "plt.plot(x, y_test, color = 'red')\n",
        "plt.scatter(x, y_pred, color = 'blue')\n",
        "plt.xlabel('Data Points')\n",
        "plt.ylabel('Revenue')\n",
        "plt.show()"
      ],
      "metadata": {
        "colab": {
          "base_uri": "https://localhost:8080/",
          "height": 449
        },
        "id": "pd9PyY96CM0V",
        "outputId": "9f13222d-101e-4134-ce42-f44be88758ab"
      },
      "execution_count": null,
      "outputs": [
        {
          "output_type": "display_data",
          "data": {
            "text/plain": [
              "<Figure size 640x480 with 1 Axes>"
            ],
            "image/png": "[encoded data removed]"
          },
          "metadata": {}
        }
      ]
    }
  ]
}